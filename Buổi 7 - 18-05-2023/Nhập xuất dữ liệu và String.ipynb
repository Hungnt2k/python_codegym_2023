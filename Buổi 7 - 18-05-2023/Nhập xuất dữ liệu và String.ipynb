{
 "cells": [
  {
   "cell_type": "markdown",
   "id": "7ac14915",
   "metadata": {},
   "source": [
    "# Nhập xuất dữ liệu và String\n",
    "## Cách nhập xuất dữ liệu"
   ]
  },
  {
   "cell_type": "markdown",
   "id": "0f202ae8",
   "metadata": {},
   "source": [
    "### Xuất dữ liệu ra màn hình\n",
    "Để in các nội dung mà chúng ta mong muốn ra màn hình, ta sử dụng lệnh print()"
   ]
  },
  {
   "cell_type": "code",
   "execution_count": 2,
   "id": "a6d3f260",
   "metadata": {},
   "outputs": [
    {
     "name": "stdout",
     "output_type": "stream",
     "text": [
      "python is very easy\n"
     ]
    },
    {
     "data": {
      "text/plain": [
       "'python is very funny'"
      ]
     },
     "execution_count": 2,
     "metadata": {},
     "output_type": "execute_result"
    }
   ],
   "source": [
    "# Ví dụ: In ra nội dung \"python is very easy\"\n",
    "print(\"python is very easy\")\n",
    "\"python is very easy\"\n",
    "\"python is very funny\""
   ]
  },
  {
   "cell_type": "markdown",
   "id": "7733925a",
   "metadata": {},
   "source": [
    "### Các cách custom với lệnh print"
   ]
  },
  {
   "cell_type": "markdown",
   "id": "292ab570",
   "metadata": {},
   "source": [
    "Để in một nội dung kèm theo giá trị của biến, ta có các cách sau:"
   ]
  },
  {
   "cell_type": "code",
   "execution_count": 12,
   "id": "20ff912c",
   "metadata": {},
   "outputs": [],
   "source": [
    "food_1 = \"chocolate\"\n",
    "food_2 = \"sandwich\"\n",
    "\n",
    "# I hate chocolate and I love sandwitch\n",
    "# \"I hate \" + food_1 \" and I love \" + food_2"
   ]
  },
  {
   "cell_type": "code",
   "execution_count": 3,
   "id": "6407a448",
   "metadata": {},
   "outputs": [
    {
     "name": "stdout",
     "output_type": "stream",
     "text": [
      "I hate chocolate and I love sandwitch\n"
     ]
    }
   ],
   "source": [
    "# In trực tiếp\n",
    "print(\"I hate chocolate and I love sandwitch\")"
   ]
  },
  {
   "cell_type": "code",
   "execution_count": 11,
   "id": "27d098b8",
   "metadata": {},
   "outputs": [
    {
     "name": "stdout",
     "output_type": "stream",
     "text": [
      "I hate chocolate and I love sandwich\n",
      "I hate chocolateand I love sandwich\n"
     ]
    }
   ],
   "source": [
    "# In bằng cách ghép các nội dung với nhau\n",
    "print(\"I hate\", food_1, \"and I love\", food_2, sep=\" \")\n",
    "print(\"I hate \" + food_1 + \"and I love \" + food_2)"
   ]
  },
  {
   "cell_type": "code",
   "execution_count": 14,
   "id": "717666f2",
   "metadata": {},
   "outputs": [
    {
     "name": "stdout",
     "output_type": "stream",
     "text": [
      "I hate chocolate and I love sandwich\n"
     ]
    }
   ],
   "source": [
    "# Sử dụng String Format\n",
    "print(f\"I hate {food_1} and I love {food_2}\")"
   ]
  },
  {
   "cell_type": "code",
   "execution_count": 17,
   "id": "c7276e05",
   "metadata": {},
   "outputs": [
    {
     "name": "stdout",
     "output_type": "stream",
     "text": [
      "I love chocolate and I love sandwich\n"
     ]
    }
   ],
   "source": [
    "# Sử dụng nhiều lệnh print\n",
    "print(\"I love \", end=\"\")\n",
    "print(food_1, end=\"\")\n",
    "print(\" and I love \", end=\"\")\n",
    "print(food_2)"
   ]
  },
  {
   "cell_type": "markdown",
   "id": "e10788fb",
   "metadata": {},
   "source": [
    "### Nhập dữ liệu\n",
    "Để nhập dữ liệu vào chương trình python, chúng ta sử dụng hàm input()"
   ]
  },
  {
   "cell_type": "code",
   "execution_count": 22,
   "id": "b8b8afd3",
   "metadata": {},
   "outputs": [
    {
     "name": "stdout",
     "output_type": "stream",
     "text": [
      "Input your name: 123213\n",
      "123213\n",
      "<class 'str'>\n"
     ]
    }
   ],
   "source": [
    "name = input(\"Input your name: \")\n",
    "print(name)\n",
    "print(type(name))"
   ]
  },
  {
   "cell_type": "code",
   "execution_count": 24,
   "id": "ac78c0f2",
   "metadata": {},
   "outputs": [
    {
     "name": "stdout",
     "output_type": "stream",
     "text": [
      "Please input a number:0.67655\n",
      "0.67655\n",
      "<class 'float'>\n"
     ]
    }
   ],
   "source": [
    "# type casting\n",
    "number = float(input(\"Please input a number:\"))\n",
    "print(number)\n",
    "print(type(number))"
   ]
  },
  {
   "cell_type": "markdown",
   "id": "337f9c15",
   "metadata": {},
   "source": [
    "#### Thực hành: Viết chương trình nhập vào chiều dài và chiều rộng của hình chữ nhật, sau đó in ra chu vi và diện tích của hình chữ nhật đó"
   ]
  },
  {
   "cell_type": "code",
   "execution_count": 26,
   "id": "add68103",
   "metadata": {},
   "outputs": [
    {
     "name": "stdout",
     "output_type": "stream",
     "text": [
      "Nhập chiều dài hình chữ nhật: 100\n",
      "Nhập chiều rộng hình chữ nhật: 50\n"
     ]
    }
   ],
   "source": [
    "# Nhập các kích thước của hình chữ nhật\n",
    "chieu_dai = int(input(\"Nhập chiều dài hình chữ nhật: \"))\n",
    "chieu_rong = int(input(\"Nhập chiều rộng hình chữ nhật: \"))"
   ]
  },
  {
   "cell_type": "code",
   "execution_count": 27,
   "id": "7a1cd73e",
   "metadata": {},
   "outputs": [],
   "source": [
    "# Tính toán chu vi, diện tích\n",
    "chu_vi = (chieu_dai + chieu_rong) * 2\n",
    "dien_tich = chieu_dai * chieu_rong"
   ]
  },
  {
   "cell_type": "code",
   "execution_count": 29,
   "id": "d0adf735",
   "metadata": {},
   "outputs": [
    {
     "name": "stdout",
     "output_type": "stream",
     "text": [
      "Chu vi hình chữ nhật là: 300 và diện tích hình chữ nhật là:  5000\n",
      "Chu vi hình chữ nhật là 300 và diện tích hình chữ nhật là 5000\n"
     ]
    }
   ],
   "source": [
    "# In kết quả ra màn hình bằng 3 cách\n",
    "print(\"Chu vi hình chữ nhật là:\", chu_vi, \"và diện tích hình chữ nhật là:\", dien_tich, sep=\" \")\n",
    "print(f'Chu vi hình chữ nhật là {chu_vi} và diện tích hình chữ nhật là {dien_tich}')\n"
   ]
  },
  {
   "cell_type": "markdown",
   "id": "fb54cb77",
   "metadata": {},
   "source": [
    "#### Thực hành: Viết chương trình nhập vào số đo cạnh và mã màu của tam giác đều, sau đó sử dụng turtle để vẽ ra hình tam giác có số đo và màu tương ứng"
   ]
  },
  {
   "cell_type": "code",
   "execution_count": null,
   "id": "7583b308",
   "metadata": {},
   "outputs": [],
   "source": []
  },
  {
   "cell_type": "markdown",
   "id": "fa7cb208",
   "metadata": {},
   "source": [
    "## Cú pháp import"
   ]
  },
  {
   "cell_type": "markdown",
   "id": "ab2a2ea5",
   "metadata": {},
   "source": [
    "Để sử dụng một module từ bên ngoài, chúng ta sẽ sử dụng từ khóa import. Sau đây là ví dụ về một số cách import phổ biến."
   ]
  },
  {
   "cell_type": "markdown",
   "id": "bd6de377",
   "metadata": {},
   "source": [
    "### Random một giá trị ngẫu nhiên"
   ]
  },
  {
   "cell_type": "code",
   "execution_count": null,
   "id": "ce5547f5",
   "metadata": {},
   "outputs": [],
   "source": []
  },
  {
   "cell_type": "markdown",
   "id": "dfa93dc0",
   "metadata": {},
   "source": [
    "### Thực hiện các phép toán số học"
   ]
  },
  {
   "cell_type": "code",
   "execution_count": 8,
   "id": "4f06f722",
   "metadata": {},
   "outputs": [],
   "source": [
    "# import toàn bộ module"
   ]
  },
  {
   "cell_type": "code",
   "execution_count": null,
   "id": "6b9e471b",
   "metadata": {},
   "outputs": [],
   "source": [
    "# import một phần trong module"
   ]
  },
  {
   "cell_type": "markdown",
   "id": "391969e7",
   "metadata": {},
   "source": [
    "## Xử lý String trong python"
   ]
  },
  {
   "cell_type": "markdown",
   "id": "ab461669",
   "metadata": {},
   "source": [
    "### String là gì?\n",
    "String là một chuỗi gồm các ký tự Unicode"
   ]
  },
  {
   "cell_type": "markdown",
   "id": "94a27b90",
   "metadata": {},
   "source": [
    "### Khởi tạo một string"
   ]
  },
  {
   "cell_type": "code",
   "execution_count": null,
   "id": "b14f4fcc",
   "metadata": {},
   "outputs": [],
   "source": [
    "# one-line string\n",
    "course_name = \"Python Fundamental\""
   ]
  },
  {
   "cell_type": "code",
   "execution_count": null,
   "id": "9cc506a7",
   "metadata": {},
   "outputs": [],
   "source": [
    "# multi-line string\n",
    "lesson_content = '''Kết thúc bài học này, bạn có thể:\n",
    "- Biết cách input dữ liệu\n",
    "- Biết cách print dữ liệu\n",
    "- Biết cách xử lý string\n",
    "'''"
   ]
  },
  {
   "cell_type": "markdown",
   "id": "8f4270fd",
   "metadata": {},
   "source": [
    "### Các thao tác phổ biến với string"
   ]
  },
  {
   "cell_type": "code",
   "execution_count": 31,
   "id": "c825f890",
   "metadata": {},
   "outputs": [
    {
     "name": "stdout",
     "output_type": "stream",
     "text": [
      "18\n"
     ]
    }
   ],
   "source": [
    "# Kiểm tra độ dài string\n",
    "course_name = \"Python Fundamental\"\n",
    "print(len(course_name))"
   ]
  },
  {
   "cell_type": "code",
   "execution_count": 33,
   "id": "6de96621",
   "metadata": {},
   "outputs": [
    {
     "name": "stdout",
     "output_type": "stream",
     "text": [
      "O\n",
      "O\n"
     ]
    }
   ],
   "source": [
    "# Truy xuất ký tự bằng cơ chế indexing và reverse indexing\n",
    "working_calendar = \"OXOOOXX\"\n",
    "\n",
    "# indexing\n",
    "print(working_calendar[3])\n",
    "\n",
    "# reverse indexing\n",
    "print(working_calendar[-4])"
   ]
  },
  {
   "cell_type": "markdown",
   "id": "a4f949d9",
   "metadata": {},
   "source": [
    "#### Thực hành: Viết chương trình nhập vào một chuỗi bất kỳ, sau đó in ra ký tự đầu tiên và ký tự cuối cùng của chuỗi đó."
   ]
  },
  {
   "cell_type": "code",
   "execution_count": 35,
   "id": "14833f18",
   "metadata": {},
   "outputs": [
    {
     "name": "stdout",
     "output_type": "stream",
     "text": [
      "Nhập vào một chuỗi bất kỳ: qưert\n",
      "Kí tự dầu tiên q\n",
      "Kí tự cuối cùng t\n"
     ]
    }
   ],
   "source": [
    "string = str(input(\"Nhập vào một chuỗi bất kỳ: \"))\n",
    "print(f\"Kí tự dầu tiên {string[0]}\")\n",
    "print(f\"Kí tự cuối cùng {string[-1]}\")"
   ]
  },
  {
   "cell_type": "code",
   "execution_count": 45,
   "id": "9aad2f16",
   "metadata": {},
   "outputs": [
    {
     "name": "stdout",
     "output_type": "stream",
     "text": [
      "Hung\n",
      "Python\n",
      "Hn\n",
      "string\n",
      "Hgyo3-si\n",
      "git,--,otPgu\n"
     ]
    }
   ],
   "source": [
    "# Cắt string theo index\n",
    "# cú pháp: <tên biến>[start:end:step]\n",
    "# default: start = 0 end = len(), step = 1 \n",
    "\n",
    "content = 'Hung,Python,3-5-7,string'\n",
    "print(content[0:4:1])\n",
    "print(content[5:11:1])\n",
    "print(content[0:4:2])\n",
    "print(content[-6:])\n",
    "print(content[::3])\n",
    "print(content[::-2]) # đảo ngược chuỗi"
   ]
  },
  {
   "cell_type": "code",
   "execution_count": 46,
   "id": "6ec63f90",
   "metadata": {},
   "outputs": [
    {
     "name": "stdout",
     "output_type": "stream",
     "text": [
      "HelloWorld\n",
      "HelloHelloHello\n"
     ]
    }
   ],
   "source": [
    "# Ghép chuỗi và lặp chuỗi\n",
    "\n",
    "a = \"Hello\"\n",
    "b = \"World\"\n",
    "print(a + b) # Ghép chuỗi\n",
    "print(a *3) # Lặp chuỗi"
   ]
  },
  {
   "cell_type": "markdown",
   "id": "84c2dcb9",
   "metadata": {},
   "source": [
    "#### Thực hành: Xử lý và in ra các thông tin tương ứng trong chuỗi"
   ]
  },
  {
   "cell_type": "code",
   "execution_count": 16,
   "id": "cd71f135",
   "metadata": {},
   "outputs": [
    {
     "name": "stdout",
     "output_type": "stream",
     "text": [
      "Nhập vào họ tên của bạn: Nguyễn Tuấn Hưng\n",
      "Nguyễn Tuấn Hưng\n",
      "Nguyễn \n",
      " Hưng\n"
     ]
    }
   ],
   "source": [
    "hoten = str(input(\"Nhập vào họ tên của bạn: \"))\n",
    "# in ra họ tên\n",
    "print(hoten)\n",
    "# in ra họ \n",
    "print(hoten[:7:])\n",
    "# in ra tên\n",
    "print(hoten[-5::])"
   ]
  },
  {
   "cell_type": "markdown",
   "id": "7cbd965f",
   "metadata": {},
   "source": [
    "### Các hàm thông dụng khi xử lý string"
   ]
  },
  {
   "cell_type": "code",
   "execution_count": 1,
   "id": "eb5932a1",
   "metadata": {},
   "outputs": [
    {
     "name": "stdout",
     "output_type": "stream",
     "text": [
      "18\n"
     ]
    }
   ],
   "source": [
    "# len - Độ dài chuỗi ký tự\n",
    "content = \"Python Fundamental\"\n",
    "print(len(content))"
   ]
  },
  {
   "cell_type": "code",
   "execution_count": 2,
   "id": "6bef6d33",
   "metadata": {},
   "outputs": [
    {
     "name": "stdout",
     "output_type": "stream",
     "text": [
      "3\n"
     ]
    }
   ],
   "source": [
    "# count - Đếm số ký tự trong chuỗi string\n",
    "content = \"Python Fundamental\"\n",
    "print(content.count('n'))"
   ]
  },
  {
   "cell_type": "code",
   "execution_count": 5,
   "id": "1582bbd8",
   "metadata": {},
   "outputs": [
    {
     "name": "stdout",
     "output_type": "stream",
     "text": [
      "MÁY NƯỚC NÓNG\n",
      "máy nước nóng\n",
      "Máy nước nóng\n"
     ]
    }
   ],
   "source": [
    "# upper, lower\n",
    "# Máy nước nóng\n",
    "content = \"Máy nước nóng\"\n",
    "print(content.upper()) # upper viết IN toàn bộ ký tự trả về \n",
    "print(content.lower()) # lower viết thường toàn bộ ký tự trả về\n",
    "print(content.capitalize()) # capitalize viết IN chữ cái đầu tiên của chuỗi"
   ]
  },
  {
   "cell_type": "code",
   "execution_count": 12,
   "id": "0d08f708",
   "metadata": {},
   "outputs": [
    {
     "name": "stdout",
     "output_type": "stream",
     "text": [
      "Máy nước nóng,,,,,,,,\n",
      "      Máy nước nóng\n",
      "Máy nước nóng,,,,,,,,\n"
     ]
    }
   ],
   "source": [
    "# lstrip, rstrip, strip\n",
    "\n",
    "content = \"      Máy nước nóng,,,,,,,,\"\n",
    "print(content.lstrip()) # xóa khoảng trắng (các ký tự dư thừa) bên trái\n",
    "print(content.rstrip(',')) # xóa khoảng trắng (các ký tự dư thừa) bên phải\n",
    "print(content.strip())  # xóa khoảng cách 2 bên\n",
    "# xóa lần lượt theo thứ tự chuỗi nhập vào theo hướng chọn lstrip (trái) rstrip (phải)"
   ]
  },
  {
   "cell_type": "code",
   "execution_count": 1,
   "id": "62180d52",
   "metadata": {},
   "outputs": [
    {
     "name": "stdout",
     "output_type": "stream",
     "text": [
      "['My', 'name', 'is', 'Hung'] "
     ]
    }
   ],
   "source": [
    "# split - phân cách từng từ trong chuỗi string \n",
    "\n",
    "content = \" My name is Hung\"\n",
    "print(content.split(), end=\" \")"
   ]
  },
  {
   "cell_type": "markdown",
   "id": "032ba1fc",
   "metadata": {},
   "source": []
  }
 ],
 "metadata": {
  "kernelspec": {
   "display_name": "Python 3 (ipykernel)",
   "language": "python",
   "name": "python3"
  },
  "language_info": {
   "codemirror_mode": {
    "name": "ipython",
    "version": 3
   },
   "file_extension": ".py",
   "mimetype": "text/x-python",
   "name": "python",
   "nbconvert_exporter": "python",
   "pygments_lexer": "ipython3",
   "version": "3.11.3"
  }
 },
 "nbformat": 4,
 "nbformat_minor": 5
}
